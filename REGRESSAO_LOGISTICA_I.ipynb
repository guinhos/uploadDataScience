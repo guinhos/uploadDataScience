{
 "cells": [
  {
   "cell_type": "markdown",
   "source": [
    "# Regressão Logística."
   ],
   "metadata": {}
  },
  {
   "cell_type": "markdown",
   "source": [
    "##"
   ],
   "metadata": {}
  },
  {
   "cell_type": "code",
   "execution_count": 1,
   "source": [
    "### Importar os pacotes a serem usados\r\n",
    "import statsmodels.api as sm\r\n",
    "import pandas as pd\r\n",
    "import numpy as np\r\n",
    "import seaborn as sns\r\n",
    "from sklearn.linear_model import LogisticRegression\r\n",
    "from sklearn.metrics import accuracy_score, classification_report\r\n",
    "from sklearn.model_selection import train_test_split\r\n",
    "%pylab inline"
   ],
   "outputs": [
    {
     "output_type": "error",
     "ename": "ModuleNotFoundError",
     "evalue": "No module named 'statsmodels'",
     "traceback": [
      "\u001b[1;31m---------------------------------------------------------------------------\u001b[0m",
      "\u001b[1;31mModuleNotFoundError\u001b[0m                       Traceback (most recent call last)",
      "\u001b[1;32m<ipython-input-1-296e926be07e>\u001b[0m in \u001b[0;36m<module>\u001b[1;34m\u001b[0m\n\u001b[0;32m      1\u001b[0m \u001b[1;31m### Importar os pacotes a serem usados\u001b[0m\u001b[1;33m\u001b[0m\u001b[1;33m\u001b[0m\u001b[1;33m\u001b[0m\u001b[0m\n\u001b[1;32m----> 2\u001b[1;33m \u001b[1;32mimport\u001b[0m \u001b[0mstatsmodels\u001b[0m\u001b[1;33m.\u001b[0m\u001b[0mapi\u001b[0m \u001b[1;32mas\u001b[0m \u001b[0msm\u001b[0m\u001b[1;33m\u001b[0m\u001b[1;33m\u001b[0m\u001b[0m\n\u001b[0m\u001b[0;32m      3\u001b[0m \u001b[1;32mimport\u001b[0m \u001b[0mpandas\u001b[0m \u001b[1;32mas\u001b[0m \u001b[0mpd\u001b[0m\u001b[1;33m\u001b[0m\u001b[1;33m\u001b[0m\u001b[0m\n\u001b[0;32m      4\u001b[0m \u001b[1;32mimport\u001b[0m \u001b[0mnumpy\u001b[0m \u001b[1;32mas\u001b[0m \u001b[0mnp\u001b[0m\u001b[1;33m\u001b[0m\u001b[1;33m\u001b[0m\u001b[0m\n\u001b[0;32m      5\u001b[0m \u001b[1;32mimport\u001b[0m \u001b[0mseaborn\u001b[0m \u001b[1;32mas\u001b[0m \u001b[0msns\u001b[0m\u001b[1;33m\u001b[0m\u001b[1;33m\u001b[0m\u001b[0m\n",
      "\u001b[1;31mModuleNotFoundError\u001b[0m: No module named 'statsmodels'"
     ]
    }
   ],
   "metadata": {}
  },
  {
   "cell_type": "markdown",
   "source": [],
   "metadata": {}
  },
  {
   "cell_type": "code",
   "execution_count": 4,
   "source": [
    "df = pd.read_csv('breast-cancer.csv', \r\n",
    "                 header = None\r\n",
    "                )\r\n",
    "\r\n",
    "df.columns = ['ID', \r\n",
    "              'clump_Thickness', \r\n",
    "              'unif_cell_size', \r\n",
    "              'unif_cell_shape', \r\n",
    "              'adhesion', \r\n",
    "              'epith_cell_Size', \r\n",
    "              'bare_nuclei', \r\n",
    "              'bland_chromatin ',\r\n",
    "              'norm_nucleoli', \r\n",
    "              'mitoses', \r\n",
    "              'class_t' \r\n",
    "             ]\r\n",
    "\r\n",
    "df.sample(10)"
   ],
   "outputs": [
    {
     "output_type": "execute_result",
     "data": {
      "text/plain": [
       "          ID  clump_Thickness  unif_cell_size  unif_cell_shape  adhesion  \\\n",
       "375  1116715                5               1                1         1   \n",
       "7    1018561                2               1                2         1   \n",
       "664  1369821               10              10               10        10   \n",
       "487  1253917                4               1                1         2   \n",
       "157  1197270                3               1                1         1   \n",
       "134  1182404                4               1                1         1   \n",
       "203  1219406                5               1                1         1   \n",
       "600  1041043                4               1                3         1   \n",
       "446  1268804                3               1                1         1   \n",
       "533  1240603                3               1                1         1   \n",
       "\n",
       "     epith_cell_Size  bare_nuclei  bland_chromatin   norm_nucleoli  mitoses  \\\n",
       "375                3            2                 2              2        1   \n",
       "7                  2            1                 3              1        1   \n",
       "664                5           10                10             10        7   \n",
       "487                2            1                 2              1        1   \n",
       "157                2            1                 3              1        1   \n",
       "134                2            1                 2              1        1   \n",
       "203                1            1                 3              1        1   \n",
       "600                2            1                 2              1        1   \n",
       "446                2            5                 1              1        1   \n",
       "533                1            1                 1              1        1   \n",
       "\n",
       "     class_t  \n",
       "375        2  \n",
       "7          2  \n",
       "664        4  \n",
       "487        2  \n",
       "157        2  \n",
       "134        2  \n",
       "203        2  \n",
       "600        2  \n",
       "446        2  \n",
       "533        2  "
      ],
      "text/html": [
       "<div>\n",
       "<style scoped>\n",
       "    .dataframe tbody tr th:only-of-type {\n",
       "        vertical-align: middle;\n",
       "    }\n",
       "\n",
       "    .dataframe tbody tr th {\n",
       "        vertical-align: top;\n",
       "    }\n",
       "\n",
       "    .dataframe thead th {\n",
       "        text-align: right;\n",
       "    }\n",
       "</style>\n",
       "<table border=\"1\" class=\"dataframe\">\n",
       "  <thead>\n",
       "    <tr style=\"text-align: right;\">\n",
       "      <th></th>\n",
       "      <th>ID</th>\n",
       "      <th>clump_Thickness</th>\n",
       "      <th>unif_cell_size</th>\n",
       "      <th>unif_cell_shape</th>\n",
       "      <th>adhesion</th>\n",
       "      <th>epith_cell_Size</th>\n",
       "      <th>bare_nuclei</th>\n",
       "      <th>bland_chromatin</th>\n",
       "      <th>norm_nucleoli</th>\n",
       "      <th>mitoses</th>\n",
       "      <th>class_t</th>\n",
       "    </tr>\n",
       "  </thead>\n",
       "  <tbody>\n",
       "    <tr>\n",
       "      <th>375</th>\n",
       "      <td>1116715</td>\n",
       "      <td>5</td>\n",
       "      <td>1</td>\n",
       "      <td>1</td>\n",
       "      <td>1</td>\n",
       "      <td>3</td>\n",
       "      <td>2</td>\n",
       "      <td>2</td>\n",
       "      <td>2</td>\n",
       "      <td>1</td>\n",
       "      <td>2</td>\n",
       "    </tr>\n",
       "    <tr>\n",
       "      <th>7</th>\n",
       "      <td>1018561</td>\n",
       "      <td>2</td>\n",
       "      <td>1</td>\n",
       "      <td>2</td>\n",
       "      <td>1</td>\n",
       "      <td>2</td>\n",
       "      <td>1</td>\n",
       "      <td>3</td>\n",
       "      <td>1</td>\n",
       "      <td>1</td>\n",
       "      <td>2</td>\n",
       "    </tr>\n",
       "    <tr>\n",
       "      <th>664</th>\n",
       "      <td>1369821</td>\n",
       "      <td>10</td>\n",
       "      <td>10</td>\n",
       "      <td>10</td>\n",
       "      <td>10</td>\n",
       "      <td>5</td>\n",
       "      <td>10</td>\n",
       "      <td>10</td>\n",
       "      <td>10</td>\n",
       "      <td>7</td>\n",
       "      <td>4</td>\n",
       "    </tr>\n",
       "    <tr>\n",
       "      <th>487</th>\n",
       "      <td>1253917</td>\n",
       "      <td>4</td>\n",
       "      <td>1</td>\n",
       "      <td>1</td>\n",
       "      <td>2</td>\n",
       "      <td>2</td>\n",
       "      <td>1</td>\n",
       "      <td>2</td>\n",
       "      <td>1</td>\n",
       "      <td>1</td>\n",
       "      <td>2</td>\n",
       "    </tr>\n",
       "    <tr>\n",
       "      <th>157</th>\n",
       "      <td>1197270</td>\n",
       "      <td>3</td>\n",
       "      <td>1</td>\n",
       "      <td>1</td>\n",
       "      <td>1</td>\n",
       "      <td>2</td>\n",
       "      <td>1</td>\n",
       "      <td>3</td>\n",
       "      <td>1</td>\n",
       "      <td>1</td>\n",
       "      <td>2</td>\n",
       "    </tr>\n",
       "    <tr>\n",
       "      <th>134</th>\n",
       "      <td>1182404</td>\n",
       "      <td>4</td>\n",
       "      <td>1</td>\n",
       "      <td>1</td>\n",
       "      <td>1</td>\n",
       "      <td>2</td>\n",
       "      <td>1</td>\n",
       "      <td>2</td>\n",
       "      <td>1</td>\n",
       "      <td>1</td>\n",
       "      <td>2</td>\n",
       "    </tr>\n",
       "    <tr>\n",
       "      <th>203</th>\n",
       "      <td>1219406</td>\n",
       "      <td>5</td>\n",
       "      <td>1</td>\n",
       "      <td>1</td>\n",
       "      <td>1</td>\n",
       "      <td>1</td>\n",
       "      <td>1</td>\n",
       "      <td>3</td>\n",
       "      <td>1</td>\n",
       "      <td>1</td>\n",
       "      <td>2</td>\n",
       "    </tr>\n",
       "    <tr>\n",
       "      <th>600</th>\n",
       "      <td>1041043</td>\n",
       "      <td>4</td>\n",
       "      <td>1</td>\n",
       "      <td>3</td>\n",
       "      <td>1</td>\n",
       "      <td>2</td>\n",
       "      <td>1</td>\n",
       "      <td>2</td>\n",
       "      <td>1</td>\n",
       "      <td>1</td>\n",
       "      <td>2</td>\n",
       "    </tr>\n",
       "    <tr>\n",
       "      <th>446</th>\n",
       "      <td>1268804</td>\n",
       "      <td>3</td>\n",
       "      <td>1</td>\n",
       "      <td>1</td>\n",
       "      <td>1</td>\n",
       "      <td>2</td>\n",
       "      <td>5</td>\n",
       "      <td>1</td>\n",
       "      <td>1</td>\n",
       "      <td>1</td>\n",
       "      <td>2</td>\n",
       "    </tr>\n",
       "    <tr>\n",
       "      <th>533</th>\n",
       "      <td>1240603</td>\n",
       "      <td>3</td>\n",
       "      <td>1</td>\n",
       "      <td>1</td>\n",
       "      <td>1</td>\n",
       "      <td>1</td>\n",
       "      <td>1</td>\n",
       "      <td>1</td>\n",
       "      <td>1</td>\n",
       "      <td>1</td>\n",
       "      <td>2</td>\n",
       "    </tr>\n",
       "  </tbody>\n",
       "</table>\n",
       "</div>"
      ]
     },
     "metadata": {},
     "execution_count": 4
    }
   ],
   "metadata": {}
  },
  {
   "cell_type": "markdown",
   "source": [],
   "metadata": {}
  },
  {
   "cell_type": "code",
   "execution_count": 6,
   "source": [
    "df.shape"
   ],
   "outputs": [
    {
     "output_type": "execute_result",
     "data": {
      "text/plain": [
       "(683, 11)"
      ]
     },
     "metadata": {},
     "execution_count": 6
    }
   ],
   "metadata": {}
  },
  {
   "cell_type": "code",
   "execution_count": 7,
   "source": [
    "df.info()"
   ],
   "outputs": [
    {
     "output_type": "stream",
     "name": "stdout",
     "text": [
      "<class 'pandas.core.frame.DataFrame'>\n",
      "RangeIndex: 683 entries, 0 to 682\n",
      "Data columns (total 11 columns):\n",
      " #   Column            Non-Null Count  Dtype\n",
      "---  ------            --------------  -----\n",
      " 0   ID                683 non-null    int64\n",
      " 1   clump_Thickness   683 non-null    int64\n",
      " 2   unif_cell_size    683 non-null    int64\n",
      " 3   unif_cell_shape   683 non-null    int64\n",
      " 4   adhesion          683 non-null    int64\n",
      " 5   epith_cell_Size   683 non-null    int64\n",
      " 6   bare_nuclei       683 non-null    int64\n",
      " 7   bland_chromatin   683 non-null    int64\n",
      " 8   norm_nucleoli     683 non-null    int64\n",
      " 9   mitoses           683 non-null    int64\n",
      " 10  class_t           683 non-null    int64\n",
      "dtypes: int64(11)\n",
      "memory usage: 58.8 KB\n"
     ]
    }
   ],
   "metadata": {}
  },
  {
   "cell_type": "markdown",
   "source": [],
   "metadata": {}
  },
  {
   "cell_type": "markdown",
   "source": [
    "#### Subistituir valores de `2` e `4` para o atributo target `class_t` pelos valores `0` e `1`, respectivamente."
   ],
   "metadata": {}
  },
  {
   "cell_type": "code",
   "execution_count": 17,
   "source": [
    "df['class_t'][df['class_t'] == 2] = 0\r\n",
    "df['class_t'][df['class_t'] == 4] = 1"
   ],
   "outputs": [],
   "metadata": {}
  },
  {
   "cell_type": "code",
   "execution_count": 18,
   "source": [
    "df.info()"
   ],
   "outputs": [
    {
     "output_type": "stream",
     "name": "stdout",
     "text": [
      "<class 'pandas.core.frame.DataFrame'>\n",
      "RangeIndex: 683 entries, 0 to 682\n",
      "Data columns (total 11 columns):\n",
      " #   Column            Non-Null Count  Dtype\n",
      "---  ------            --------------  -----\n",
      " 0   ID                683 non-null    int64\n",
      " 1   clump_Thickness   683 non-null    int64\n",
      " 2   unif_cell_size    683 non-null    int64\n",
      " 3   unif_cell_shape   683 non-null    int64\n",
      " 4   adhesion          683 non-null    int64\n",
      " 5   epith_cell_Size   683 non-null    int64\n",
      " 6   bare_nuclei       683 non-null    int64\n",
      " 7   bland_chromatin   683 non-null    int64\n",
      " 8   norm_nucleoli     683 non-null    int64\n",
      " 9   mitoses           683 non-null    int64\n",
      " 10  class_t           683 non-null    int64\n",
      "dtypes: int64(11)\n",
      "memory usage: 58.8 KB\n"
     ]
    }
   ],
   "metadata": {}
  },
  {
   "cell_type": "markdown",
   "source": [],
   "metadata": {}
  },
  {
   "cell_type": "markdown",
   "source": [
    "#### Dataset que coletado."
   ],
   "metadata": {}
  },
  {
   "cell_type": "code",
   "execution_count": 19,
   "source": [
    "df.sample(10)"
   ],
   "outputs": [
    {
     "output_type": "execute_result",
     "data": {
      "text/plain": [
       "          ID  clump_Thickness  unif_cell_size  unif_cell_shape  adhesion  \\\n",
       "598  1016634                2               3                1         1   \n",
       "226  1231706                8               4                6         3   \n",
       "568  1115762                3               1                1         1   \n",
       "679   841769                2               1                1         1   \n",
       "190  1213375                8               4                4         5   \n",
       "115  1173509                4               5                5        10   \n",
       "545  1321942                5               1                1         1   \n",
       "525  1158157                5               1                1         1   \n",
       "591   353098                4               1                1         2   \n",
       "576  1295529                2               5                7         6   \n",
       "\n",
       "     epith_cell_Size  bare_nuclei  bland_chromatin   norm_nucleoli  mitoses  \\\n",
       "598                2            1                 2              1        1   \n",
       "226                3            1                 4              3        1   \n",
       "568                2            1                 1              1        1   \n",
       "679                2            1                 1              1        1   \n",
       "190                4            7                 7              8        2   \n",
       "115                4           10                 7              5        8   \n",
       "545                2            1                 3              1        1   \n",
       "525                2            2                 2              1        1   \n",
       "591                2            1                 1              1        1   \n",
       "576                4           10                 7              6        1   \n",
       "\n",
       "     class_t  \n",
       "598        0  \n",
       "226        0  \n",
       "568        0  \n",
       "679        0  \n",
       "190        0  \n",
       "115        1  \n",
       "545        0  \n",
       "525        0  \n",
       "591        0  \n",
       "576        1  "
      ],
      "text/html": [
       "<div>\n",
       "<style scoped>\n",
       "    .dataframe tbody tr th:only-of-type {\n",
       "        vertical-align: middle;\n",
       "    }\n",
       "\n",
       "    .dataframe tbody tr th {\n",
       "        vertical-align: top;\n",
       "    }\n",
       "\n",
       "    .dataframe thead th {\n",
       "        text-align: right;\n",
       "    }\n",
       "</style>\n",
       "<table border=\"1\" class=\"dataframe\">\n",
       "  <thead>\n",
       "    <tr style=\"text-align: right;\">\n",
       "      <th></th>\n",
       "      <th>ID</th>\n",
       "      <th>clump_Thickness</th>\n",
       "      <th>unif_cell_size</th>\n",
       "      <th>unif_cell_shape</th>\n",
       "      <th>adhesion</th>\n",
       "      <th>epith_cell_Size</th>\n",
       "      <th>bare_nuclei</th>\n",
       "      <th>bland_chromatin</th>\n",
       "      <th>norm_nucleoli</th>\n",
       "      <th>mitoses</th>\n",
       "      <th>class_t</th>\n",
       "    </tr>\n",
       "  </thead>\n",
       "  <tbody>\n",
       "    <tr>\n",
       "      <th>598</th>\n",
       "      <td>1016634</td>\n",
       "      <td>2</td>\n",
       "      <td>3</td>\n",
       "      <td>1</td>\n",
       "      <td>1</td>\n",
       "      <td>2</td>\n",
       "      <td>1</td>\n",
       "      <td>2</td>\n",
       "      <td>1</td>\n",
       "      <td>1</td>\n",
       "      <td>0</td>\n",
       "    </tr>\n",
       "    <tr>\n",
       "      <th>226</th>\n",
       "      <td>1231706</td>\n",
       "      <td>8</td>\n",
       "      <td>4</td>\n",
       "      <td>6</td>\n",
       "      <td>3</td>\n",
       "      <td>3</td>\n",
       "      <td>1</td>\n",
       "      <td>4</td>\n",
       "      <td>3</td>\n",
       "      <td>1</td>\n",
       "      <td>0</td>\n",
       "    </tr>\n",
       "    <tr>\n",
       "      <th>568</th>\n",
       "      <td>1115762</td>\n",
       "      <td>3</td>\n",
       "      <td>1</td>\n",
       "      <td>1</td>\n",
       "      <td>1</td>\n",
       "      <td>2</td>\n",
       "      <td>1</td>\n",
       "      <td>1</td>\n",
       "      <td>1</td>\n",
       "      <td>1</td>\n",
       "      <td>0</td>\n",
       "    </tr>\n",
       "    <tr>\n",
       "      <th>679</th>\n",
       "      <td>841769</td>\n",
       "      <td>2</td>\n",
       "      <td>1</td>\n",
       "      <td>1</td>\n",
       "      <td>1</td>\n",
       "      <td>2</td>\n",
       "      <td>1</td>\n",
       "      <td>1</td>\n",
       "      <td>1</td>\n",
       "      <td>1</td>\n",
       "      <td>0</td>\n",
       "    </tr>\n",
       "    <tr>\n",
       "      <th>190</th>\n",
       "      <td>1213375</td>\n",
       "      <td>8</td>\n",
       "      <td>4</td>\n",
       "      <td>4</td>\n",
       "      <td>5</td>\n",
       "      <td>4</td>\n",
       "      <td>7</td>\n",
       "      <td>7</td>\n",
       "      <td>8</td>\n",
       "      <td>2</td>\n",
       "      <td>0</td>\n",
       "    </tr>\n",
       "    <tr>\n",
       "      <th>115</th>\n",
       "      <td>1173509</td>\n",
       "      <td>4</td>\n",
       "      <td>5</td>\n",
       "      <td>5</td>\n",
       "      <td>10</td>\n",
       "      <td>4</td>\n",
       "      <td>10</td>\n",
       "      <td>7</td>\n",
       "      <td>5</td>\n",
       "      <td>8</td>\n",
       "      <td>1</td>\n",
       "    </tr>\n",
       "    <tr>\n",
       "      <th>545</th>\n",
       "      <td>1321942</td>\n",
       "      <td>5</td>\n",
       "      <td>1</td>\n",
       "      <td>1</td>\n",
       "      <td>1</td>\n",
       "      <td>2</td>\n",
       "      <td>1</td>\n",
       "      <td>3</td>\n",
       "      <td>1</td>\n",
       "      <td>1</td>\n",
       "      <td>0</td>\n",
       "    </tr>\n",
       "    <tr>\n",
       "      <th>525</th>\n",
       "      <td>1158157</td>\n",
       "      <td>5</td>\n",
       "      <td>1</td>\n",
       "      <td>1</td>\n",
       "      <td>1</td>\n",
       "      <td>2</td>\n",
       "      <td>2</td>\n",
       "      <td>2</td>\n",
       "      <td>1</td>\n",
       "      <td>1</td>\n",
       "      <td>0</td>\n",
       "    </tr>\n",
       "    <tr>\n",
       "      <th>591</th>\n",
       "      <td>353098</td>\n",
       "      <td>4</td>\n",
       "      <td>1</td>\n",
       "      <td>1</td>\n",
       "      <td>2</td>\n",
       "      <td>2</td>\n",
       "      <td>1</td>\n",
       "      <td>1</td>\n",
       "      <td>1</td>\n",
       "      <td>1</td>\n",
       "      <td>0</td>\n",
       "    </tr>\n",
       "    <tr>\n",
       "      <th>576</th>\n",
       "      <td>1295529</td>\n",
       "      <td>2</td>\n",
       "      <td>5</td>\n",
       "      <td>7</td>\n",
       "      <td>6</td>\n",
       "      <td>4</td>\n",
       "      <td>10</td>\n",
       "      <td>7</td>\n",
       "      <td>6</td>\n",
       "      <td>1</td>\n",
       "      <td>1</td>\n",
       "    </tr>\n",
       "  </tbody>\n",
       "</table>\n",
       "</div>"
      ]
     },
     "metadata": {},
     "execution_count": 19
    }
   ],
   "metadata": {}
  },
  {
   "cell_type": "markdown",
   "source": [],
   "metadata": {}
  },
  {
   "cell_type": "markdown",
   "source": [
    "## 2. Análise Exploratória dos Dados"
   ],
   "metadata": {}
  },
  {
   "cell_type": "markdown",
   "source": [],
   "metadata": {}
  },
  {
   "cell_type": "code",
   "execution_count": 20,
   "source": [
    "df.iloc[:,1:len(df)].describe()"
   ],
   "outputs": [
    {
     "output_type": "execute_result",
     "data": {
      "text/plain": [
       "       clump_Thickness  unif_cell_size  unif_cell_shape    adhesion  \\\n",
       "count       683.000000      683.000000       683.000000  683.000000   \n",
       "mean          4.442167        3.150805         3.215227    2.830161   \n",
       "std           2.820761        3.065145         2.988581    2.864562   \n",
       "min           1.000000        1.000000         1.000000    1.000000   \n",
       "25%           2.000000        1.000000         1.000000    1.000000   \n",
       "50%           4.000000        1.000000         1.000000    1.000000   \n",
       "75%           6.000000        5.000000         5.000000    4.000000   \n",
       "max          10.000000       10.000000        10.000000   10.000000   \n",
       "\n",
       "       epith_cell_Size  bare_nuclei  bland_chromatin   norm_nucleoli  \\\n",
       "count       683.000000   683.000000        683.000000     683.000000   \n",
       "mean          3.234261     3.544656          3.445095       2.869693   \n",
       "std           2.223085     3.643857          2.449697       3.052666   \n",
       "min           1.000000     1.000000          1.000000       1.000000   \n",
       "25%           2.000000     1.000000          2.000000       1.000000   \n",
       "50%           2.000000     1.000000          3.000000       1.000000   \n",
       "75%           4.000000     6.000000          5.000000       4.000000   \n",
       "max          10.000000    10.000000         10.000000      10.000000   \n",
       "\n",
       "          mitoses     class_t  \n",
       "count  683.000000  683.000000  \n",
       "mean     1.603221    0.349927  \n",
       "std      1.732674    0.477296  \n",
       "min      1.000000    0.000000  \n",
       "25%      1.000000    0.000000  \n",
       "50%      1.000000    0.000000  \n",
       "75%      1.000000    1.000000  \n",
       "max     10.000000    1.000000  "
      ],
      "text/html": [
       "<div>\n",
       "<style scoped>\n",
       "    .dataframe tbody tr th:only-of-type {\n",
       "        vertical-align: middle;\n",
       "    }\n",
       "\n",
       "    .dataframe tbody tr th {\n",
       "        vertical-align: top;\n",
       "    }\n",
       "\n",
       "    .dataframe thead th {\n",
       "        text-align: right;\n",
       "    }\n",
       "</style>\n",
       "<table border=\"1\" class=\"dataframe\">\n",
       "  <thead>\n",
       "    <tr style=\"text-align: right;\">\n",
       "      <th></th>\n",
       "      <th>clump_Thickness</th>\n",
       "      <th>unif_cell_size</th>\n",
       "      <th>unif_cell_shape</th>\n",
       "      <th>adhesion</th>\n",
       "      <th>epith_cell_Size</th>\n",
       "      <th>bare_nuclei</th>\n",
       "      <th>bland_chromatin</th>\n",
       "      <th>norm_nucleoli</th>\n",
       "      <th>mitoses</th>\n",
       "      <th>class_t</th>\n",
       "    </tr>\n",
       "  </thead>\n",
       "  <tbody>\n",
       "    <tr>\n",
       "      <th>count</th>\n",
       "      <td>683.000000</td>\n",
       "      <td>683.000000</td>\n",
       "      <td>683.000000</td>\n",
       "      <td>683.000000</td>\n",
       "      <td>683.000000</td>\n",
       "      <td>683.000000</td>\n",
       "      <td>683.000000</td>\n",
       "      <td>683.000000</td>\n",
       "      <td>683.000000</td>\n",
       "      <td>683.000000</td>\n",
       "    </tr>\n",
       "    <tr>\n",
       "      <th>mean</th>\n",
       "      <td>4.442167</td>\n",
       "      <td>3.150805</td>\n",
       "      <td>3.215227</td>\n",
       "      <td>2.830161</td>\n",
       "      <td>3.234261</td>\n",
       "      <td>3.544656</td>\n",
       "      <td>3.445095</td>\n",
       "      <td>2.869693</td>\n",
       "      <td>1.603221</td>\n",
       "      <td>0.349927</td>\n",
       "    </tr>\n",
       "    <tr>\n",
       "      <th>std</th>\n",
       "      <td>2.820761</td>\n",
       "      <td>3.065145</td>\n",
       "      <td>2.988581</td>\n",
       "      <td>2.864562</td>\n",
       "      <td>2.223085</td>\n",
       "      <td>3.643857</td>\n",
       "      <td>2.449697</td>\n",
       "      <td>3.052666</td>\n",
       "      <td>1.732674</td>\n",
       "      <td>0.477296</td>\n",
       "    </tr>\n",
       "    <tr>\n",
       "      <th>min</th>\n",
       "      <td>1.000000</td>\n",
       "      <td>1.000000</td>\n",
       "      <td>1.000000</td>\n",
       "      <td>1.000000</td>\n",
       "      <td>1.000000</td>\n",
       "      <td>1.000000</td>\n",
       "      <td>1.000000</td>\n",
       "      <td>1.000000</td>\n",
       "      <td>1.000000</td>\n",
       "      <td>0.000000</td>\n",
       "    </tr>\n",
       "    <tr>\n",
       "      <th>25%</th>\n",
       "      <td>2.000000</td>\n",
       "      <td>1.000000</td>\n",
       "      <td>1.000000</td>\n",
       "      <td>1.000000</td>\n",
       "      <td>2.000000</td>\n",
       "      <td>1.000000</td>\n",
       "      <td>2.000000</td>\n",
       "      <td>1.000000</td>\n",
       "      <td>1.000000</td>\n",
       "      <td>0.000000</td>\n",
       "    </tr>\n",
       "    <tr>\n",
       "      <th>50%</th>\n",
       "      <td>4.000000</td>\n",
       "      <td>1.000000</td>\n",
       "      <td>1.000000</td>\n",
       "      <td>1.000000</td>\n",
       "      <td>2.000000</td>\n",
       "      <td>1.000000</td>\n",
       "      <td>3.000000</td>\n",
       "      <td>1.000000</td>\n",
       "      <td>1.000000</td>\n",
       "      <td>0.000000</td>\n",
       "    </tr>\n",
       "    <tr>\n",
       "      <th>75%</th>\n",
       "      <td>6.000000</td>\n",
       "      <td>5.000000</td>\n",
       "      <td>5.000000</td>\n",
       "      <td>4.000000</td>\n",
       "      <td>4.000000</td>\n",
       "      <td>6.000000</td>\n",
       "      <td>5.000000</td>\n",
       "      <td>4.000000</td>\n",
       "      <td>1.000000</td>\n",
       "      <td>1.000000</td>\n",
       "    </tr>\n",
       "    <tr>\n",
       "      <th>max</th>\n",
       "      <td>10.000000</td>\n",
       "      <td>10.000000</td>\n",
       "      <td>10.000000</td>\n",
       "      <td>10.000000</td>\n",
       "      <td>10.000000</td>\n",
       "      <td>10.000000</td>\n",
       "      <td>10.000000</td>\n",
       "      <td>10.000000</td>\n",
       "      <td>10.000000</td>\n",
       "      <td>1.000000</td>\n",
       "    </tr>\n",
       "  </tbody>\n",
       "</table>\n",
       "</div>"
      ]
     },
     "metadata": {},
     "execution_count": 20
    }
   ],
   "metadata": {}
  },
  {
   "cell_type": "markdown",
   "source": [],
   "metadata": {}
  },
  {
   "cell_type": "markdown",
   "source": [
    "#### A correlação entre os dados que foram separados acima."
   ],
   "metadata": {}
  },
  {
   "cell_type": "code",
   "execution_count": 21,
   "source": [
    "with sns.axes_style(\"white\"):\r\n",
    "    f, ax = plt.subplots(figsize = (10, 10))\r\n",
    "    ax = sns.heatmap(df.corr(method = 'spearman').iloc[1:len(df), \r\n",
    "                                                       1:len(df) ], \r\n",
    "            annot = True,\r\n",
    "            cmap = \"YlGnBu\"\r\n",
    "                    )"
   ],
   "outputs": [
    {
     "output_type": "display_data",
     "data": {
      "text/plain": [
       "<Figure size 720x720 with 2 Axes>"
      ],
      "image/png": "[encoded data removed]"
     },
     "metadata": {}
    }
   ],
   "metadata": {}
  },
  {
   "cell_type": "markdown",
   "source": [],
   "metadata": {}
  },
  {
   "cell_type": "markdown",
   "source": [
    "## 3. Ajustando um modelo de regressão logística"
   ],
   "metadata": {}
  },
  {
   "cell_type": "markdown",
   "source": [],
   "metadata": {}
  },
  {
   "cell_type": "code",
   "execution_count": 22,
   "source": [
    "X = df.iloc[:, 1 : 9]\r\n",
    "y = df['class_t']\r\n",
    "print(X)\r\n",
    "#print(y)"
   ],
   "outputs": [
    {
     "output_type": "stream",
     "name": "stdout",
     "text": [
      "     clump_Thickness  unif_cell_size  unif_cell_shape  adhesion  \\\n",
      "0                  5               1                1         1   \n",
      "1                  5               4                4         5   \n",
      "2                  3               1                1         1   \n",
      "3                  6               8                8         1   \n",
      "4                  4               1                1         3   \n",
      "..               ...             ...              ...       ...   \n",
      "678                3               1                1         1   \n",
      "679                2               1                1         1   \n",
      "680                5              10               10         3   \n",
      "681                4               8                6         4   \n",
      "682                4               8                8         5   \n",
      "\n",
      "     epith_cell_Size  bare_nuclei  bland_chromatin   norm_nucleoli  \n",
      "0                  2            1                 3              1  \n",
      "1                  7           10                 3              2  \n",
      "2                  2            2                 3              1  \n",
      "3                  3            4                 3              7  \n",
      "4                  2            1                 3              1  \n",
      "..               ...          ...               ...            ...  \n",
      "678                3            2                 1              1  \n",
      "679                2            1                 1              1  \n",
      "680                7            3                 8             10  \n",
      "681                3            4                10              6  \n",
      "682                4            5                10              4  \n",
      "\n",
      "[683 rows x 8 columns]\n"
     ]
    }
   ],
   "metadata": {}
  },
  {
   "cell_type": "markdown",
   "source": [],
   "metadata": {}
  },
  {
   "cell_type": "markdown",
   "source": [
    "### 3.1 Usando `scikit-learn`"
   ],
   "metadata": {}
  },
  {
   "cell_type": "code",
   "execution_count": 23,
   "source": [],
   "outputs": [],
   "metadata": {}
  },
  {
   "cell_type": "markdown",
   "source": [],
   "metadata": {}
  },
  {
   "cell_type": "markdown",
   "source": [
    "#### O desempenho desse modelo tirando a média dos coeficientes de determinação dos valores da lista `kf_scores`."
   ],
   "metadata": {}
  },
  {
   "cell_type": "code",
   "execution_count": 25,
   "source": [
    "np.mean(kf_scores)"
   ],
   "outputs": [
    {
     "output_type": "execute_result",
     "data": {
      "text/plain": [
       "0.9663469735720376"
      ]
     },
     "metadata": {},
     "execution_count": 25
    }
   ],
   "metadata": {
    "scrolled": true
   }
  },
  {
   "cell_type": "markdown",
   "source": [],
   "metadata": {}
  },
  {
   "cell_type": "markdown",
   "source": [
    "### 3.2 Usando `statsmodels`"
   ],
   "metadata": {}
  },
  {
   "cell_type": "code",
   "execution_count": 26,
   "source": [
    "X = sm.tools.add_constant(X)"
   ],
   "outputs": [],
   "metadata": {}
  },
  {
   "cell_type": "code",
   "execution_count": 27,
   "source": [
    "X_train, X_test, y_train, y_test = train_test_split(X, y)"
   ],
   "outputs": [],
   "metadata": {}
  },
  {
   "cell_type": "markdown",
   "source": [],
   "metadata": {}
  },
  {
   "cell_type": "markdown",
   "source": [
    "#### Regressão logística usando `statsmodels`.\n"
   ],
   "metadata": {}
  },
  {
   "cell_type": "code",
   "execution_count": 28,
   "source": [
    "logit = sm.Logit(y_train, X_train)\r\n",
    "\r\n",
    "result = logit.fit()\r\n",
    "print(result.summary2())"
   ],
   "outputs": [
    {
     "output_type": "stream",
     "name": "stdout",
     "text": [
      "Optimization terminated successfully.\n",
      "         Current function value: 0.082207\n",
      "         Iterations 9\n",
      "                          Results: Logit\n",
      "==================================================================\n",
      "Model:              Logit            Pseudo R-squared: 0.874      \n",
      "Dependent Variable: class_t          AIC:              102.1801   \n",
      "Date:               2021-02-01 10:43 BIC:              140.3251   \n",
      "No. Observations:   512              Log-Likelihood:   -42.090    \n",
      "Df Model:           8                LL-Null:          -334.37    \n",
      "Df Residuals:       503              LLR p-value:      4.8984e-121\n",
      "Converged:          1.0000           Scale:            1.0000     \n",
      "No. Iterations:     9.0000                                        \n",
      "------------------------------------------------------------------\n",
      "                   Coef.  Std.Err.    z    P>|z|   [0.025   0.975]\n",
      "------------------------------------------------------------------\n",
      "const             -9.6191   1.2851 -7.4853 0.0000 -12.1378 -7.1005\n",
      "clump_Thickness    0.5723   0.1599  3.5785 0.0003   0.2588  0.8857\n",
      "unif_cell_size    -0.0343   0.2155 -0.1593 0.8734  -0.4567  0.3880\n",
      "unif_cell_shape    0.4513   0.2456  1.8374 0.0661  -0.0301  0.9327\n",
      "adhesion           0.3298   0.1258  2.6222 0.0087   0.0833  0.5764\n",
      "epith_cell_Size    0.0589   0.1639  0.3594 0.7193  -0.2623  0.3800\n",
      "bare_nuclei        0.3139   0.0928  3.3841 0.0007   0.1321  0.4958\n",
      "bland_chromatin    0.3775   0.1845  2.0457 0.0408   0.0158  0.7391\n",
      "norm_nucleoli      0.2690   0.1277  2.1060 0.0352   0.0187  0.5193\n",
      "==================================================================\n",
      "\n"
     ]
    }
   ],
   "metadata": {}
  },
  {
   "cell_type": "markdown",
   "source": [],
   "metadata": {}
  },
  {
   "cell_type": "markdown",
   "source": [
    "#### Matriz de confusão do modelo com os dados preditos e observados."
   ],
   "metadata": {}
  },
  {
   "cell_type": "code",
   "execution_count": 29,
   "source": [
    "from sklearn.metrics import confusion_matrix\r\n",
    "\r\n",
    "y_pred = result.predict(X_test) > 0.5\r\n",
    "print(y_pred)\r\n",
    "\r\n",
    "confusion_matrix(y_test, y_pred)"
   ],
   "outputs": [
    {
     "output_type": "stream",
     "name": "stdout",
     "text": [
      "584    False\n",
      "434     True\n",
      "606    False\n",
      "275     True\n",
      "572    False\n",
      "       ...  \n",
      "458    False\n",
      "134    False\n",
      "390    False\n",
      "297    False\n",
      "524    False\n",
      "Length: 171, dtype: bool\n"
     ]
    },
    {
     "output_type": "execute_result",
     "data": {
      "text/plain": [
       "array([[115,   1],\n",
       "       [  4,  51]])"
      ]
     },
     "metadata": {},
     "execution_count": 29
    }
   ],
   "metadata": {}
  },
  {
   "cell_type": "markdown",
   "source": [],
   "metadata": {}
  },
  {
   "cell_type": "markdown",
   "source": [
    "#### Acurácia do modelo "
   ],
   "metadata": {}
  },
  {
   "cell_type": "code",
   "execution_count": 30,
   "source": [
    "np.sum(y_test == y_pred) / len(y_test)"
   ],
   "outputs": [
    {
     "output_type": "execute_result",
     "data": {
      "text/plain": [
       "0.9707602339181286"
      ]
     },
     "metadata": {},
     "execution_count": 30
    }
   ],
   "metadata": {}
  },
  {
   "cell_type": "markdown",
   "source": [],
   "metadata": {}
  },
  {
   "cell_type": "markdown",
   "source": [
    "### 3.2 Usando (novamente) `sklearn`\n",
    "\n",
    "#### Treino e teste `X_train` e `X_test`, criada anteriormente como interceptor. "
   ],
   "metadata": {}
  },
  {
   "cell_type": "code",
   "execution_count": 31,
   "source": [
    "X_test = X_test.drop('const', axis = 1)\r\n",
    "X_train = X_train.drop('const', axis = 1)"
   ],
   "outputs": [],
   "metadata": {}
  },
  {
   "cell_type": "markdown",
   "source": [],
   "metadata": {}
  },
  {
   "cell_type": "markdown",
   "source": [],
   "metadata": {}
  },
  {
   "cell_type": "code",
   "execution_count": 32,
   "source": [
    "reglogsklearn = LogisticRegression(fit_intercept = True, \r\n",
    "                                   penalty = 'l2', \r\n",
    "                                   C = 1e10)\r\n",
    "\r\n",
    "reglogsklearn.fit(X_train, y_train)"
   ],
   "outputs": [
    {
     "output_type": "execute_result",
     "data": {
      "text/plain": [
       "LogisticRegression(C=10000000000.0)"
      ]
     },
     "metadata": {},
     "execution_count": 32
    }
   ],
   "metadata": {}
  },
  {
   "cell_type": "markdown",
   "source": [],
   "metadata": {}
  },
  {
   "cell_type": "markdown",
   "source": [
    "#### Os valores dos coeficientes linear `.intercept_` e angulares `.coef_`."
   ],
   "metadata": {}
  },
  {
   "cell_type": "code",
   "execution_count": 33,
   "source": [
    "reglogsklearn.intercept_, reglogsklearn.coef_"
   ],
   "outputs": [
    {
     "output_type": "execute_result",
     "data": {
      "text/plain": [
       "(array([-9.61914978]),\n",
       " array([[ 0.57225466, -0.03431069,  0.45128636,  0.32984029,  0.05889074,\n",
       "          0.31394551,  0.37745707,  0.26897013]]))"
      ]
     },
     "metadata": {},
     "execution_count": 33
    }
   ],
   "metadata": {}
  },
  {
   "cell_type": "markdown",
   "source": [],
   "metadata": {}
  },
  {
   "cell_type": "markdown",
   "source": [
    "#### Previsão `y_pred2` do targets com a função [`.predict()`] aplicada aos dados de treino `X_test`. \n",
    "\n",
    "#### A acurácia do modelo com a função [`accuracy_score()`] aplicada aos subconjuntos `y_test` e `y_pred2`"
   ],
   "metadata": {}
  },
  {
   "cell_type": "code",
   "execution_count": 34,
   "source": [
    "y_pred2 = reglogsklearn.predict(X_test)\r\n",
    "accuracy_score(y_test, y_pred2)"
   ],
   "outputs": [
    {
     "output_type": "execute_result",
     "data": {
      "text/plain": [
       "0.9707602339181286"
      ]
     },
     "metadata": {},
     "execution_count": 34
    }
   ],
   "metadata": {}
  },
  {
   "cell_type": "markdown",
   "source": [],
   "metadata": {}
  },
  {
   "cell_type": "markdown",
   "source": [
    "#### A matriz de confusão entre `y_test` e `y_pred2` :"
   ],
   "metadata": {}
  },
  {
   "cell_type": "code",
   "execution_count": 35,
   "source": [
    "confusion_matrix(y_test, y_pred2)"
   ],
   "outputs": [
    {
     "output_type": "execute_result",
     "data": {
      "text/plain": [
       "array([[115,   1],\n",
       "       [  4,  51]])"
      ]
     },
     "metadata": {},
     "execution_count": 35
    }
   ],
   "metadata": {}
  },
  {
   "cell_type": "markdown",
   "source": [
    "#### Comparando os valores de target previstos `y_pred` com os valores do subconjunto de teste `y_test`, através da soma das comparações que retornam `True`, dividido pelo comprimento do subconjunto de teste."
   ],
   "metadata": {}
  },
  {
   "cell_type": "code",
   "execution_count": 36,
   "source": [
    "np.sum(y_test == y_pred2) / len(y_test)"
   ],
   "outputs": [
    {
     "output_type": "execute_result",
     "data": {
      "text/plain": [
       "0.9707602339181286"
      ]
     },
     "metadata": {},
     "execution_count": 36
    }
   ],
   "metadata": {}
  },
  {
   "cell_type": "markdown",
   "source": [],
   "metadata": {}
  },
  {
   "cell_type": "markdown",
   "source": [
    "## 4. Análise e interpretação"
   ],
   "metadata": {}
  },
  {
   "cell_type": "markdown",
   "source": [
    "* O que podem dizer sobre este modelo?\n",
    "* Como o ajuste dele funciona?\n",
    "* Quais são as principais variáveis preditoras do tipo de tumor?"
   ],
   "metadata": {}
  },
  {
   "cell_type": "markdown",
   "source": [
    "## 5. Comparação com KNN\n",
    "\n",
    "#### Com o mesmo split entre `train` e `test` gerado anteriormente, usar o conjunto de traino para estimar um modelo de [`kNN`](https://towardsdatascience.com/k-nearest-neighbors-knn-explained-cbc31849a7e3) com hiperparâmetros ideais e comparar o desempenho em dados não observados com respeito à regressão logística.\n",
    "\n",
    "#### Importar as bibliotecas:"
   ],
   "metadata": {}
  },
  {
   "cell_type": "code",
   "execution_count": 37,
   "source": [
    "from sklearn.model_selection import KFold\r\n",
    "import pandas as pd\r\n",
    "import seaborn as sns\r\n",
    "import numpy as np\r\n",
    "from sklearn.model_selection import cross_val_score\r\n",
    "from sklearn.neighbors import KNeighborsClassifier"
   ],
   "outputs": [],
   "metadata": {}
  },
  {
   "cell_type": "markdown",
   "source": [],
   "metadata": {}
  },
  {
   "cell_type": "markdown",
   "source": [
    "#### Definir uma função própria que receba como argumentos os subconjuntos de atributos descritivos `X` e targets , `y`, faça uma varredura  em `loop` sobre um intervalo ( `start`, `stop`, `step` ) de valores de k-vizinhos.\n",
    "\n",
    "#### A função deverá ainda conter uma instancia de um objeto `model` para receber um modelo de calssificação do tipo [`kNN`](https://portaldatascience.com/o-algoritmo-k-nearest-neighbors-knn-em-machine-learning/), um objeto `kf` que defina os parâmetros para a estratégia para a validação cruzada e um objeto `cv_scores` para receber os dados do modelo, conjuntos de atributos descritivos `X` e target `y`, juntamente com a estratégia de VC e que calcule o coeficiente de determinação para cada valor `k` de vizinhos definidos.\n",
    "\n",
    "#### A função deverá ainda conter um dicionário com os valores médios  e o desvio padrão dos coeficientes de determinação  de todas as dobras realizadas pela validação cruzada. \n",
    "\n",
    "#### Ao fim da função o dicionário de valores oara `cv_scores` deve ser convertido em um dataframe e um margem de $\\pm$ um desvio padrão de `cv_scores` deve ser criada para visualização gráfica."
   ],
   "metadata": {}
  },
  {
   "cell_type": "code",
   "execution_count": 38,
   "source": [
    "def scores_knn(X, y, start, stop, step):\r\n",
    "    \r\n",
    "    # Quero representar graficamente os diferentes valores do score de cross validation em função do hiperparâmetro n_neighbors\r\n",
    "    # Para isso, vou gerar uma lista de dicionários que depois pode ser facilmente convertida a DataFrame\r\n",
    "    # Lista de Dicionários\r\n",
    "    \r\n",
    "    scores_para_df = []\r\n",
    "    \r\n",
    "    # range(1,40,5) são os valores possíveis de n_neighbors que quero explorar. São todos os inteiros a partir de 1\r\n",
    "    # até 40, de 5 em 5. (Start,Stop,Step)\r\n",
    "    \r\n",
    "    for i in range(start, stop, step):\r\n",
    "        # Em cada iteração, instanciamos o modelo com um hiperparâmetro diferente\r\n",
    "        \r\n",
    "        model = KNeighborsClassifier(n_neighbors = i)\r\n",
    "\r\n",
    "# cross_val_scores retorna um array de 5 resultados, um para cada partição feita automaticamente pelo CV        \r\n",
    "        kf = KFold(n_splits = 10, \r\n",
    "                   shuffle = True\r\n",
    "                  )\r\n",
    "        \r\n",
    "        cv_scores = cross_val_score(model, \r\n",
    "                                    X, \r\n",
    "                                    y, \r\n",
    "                                    cv = kf\r\n",
    "                                   )\r\n",
    "\r\n",
    "        # Para cada valor de n_neighbours, crio um dicionário com o valor de n_neighbours, a média e o desvio dos scores.\r\n",
    "        \r\n",
    "        dict_row_score = {'score_medio' : np.mean(cv_scores),\r\n",
    "                          'score_std' : np.std(cv_scores),\r\n",
    "                          'n_neighbours' : i\r\n",
    "                         }\r\n",
    "\r\n",
    "        # Guardo cada um na lista de dicionários\r\n",
    "        \r\n",
    "        scores_para_df.append(dict_row_score)\r\n",
    "        \r\n",
    "        df_scores = pd.DataFrame(scores_para_df)\r\n",
    "        df_scores['limite_inferior'] = df_scores['score_medio'] - df_scores['score_std']\r\n",
    "        df_scores['limite_superior'] = df_scores['score_medio'] + df_scores['score_std']\r\n",
    "\r\n",
    "    return df_scores\r\n"
   ],
   "outputs": [],
   "metadata": {}
  },
  {
   "cell_type": "markdown",
   "source": [],
   "metadata": {}
  },
  {
   "cell_type": "markdown",
   "source": [
    "#### Com a biblioteca de pré-processamento [`sklearn.preprocessing`] fazer o reescalonamento dos dados de treino com a função [`preprocessing.scale()`] e então aplicar a função para os parâmetros:\n",
    "\n",
    "* `(X = X_train_std, y = y_train, start = 1, stop = 20, step = 1)`."
   ],
   "metadata": {}
  },
  {
   "cell_type": "code",
   "execution_count": 39,
   "source": [
    "from sklearn import preprocessing\r\n",
    "\r\n",
    "X_train_std = preprocessing.scale(X_train, \r\n",
    "                                  axis = 0\r\n",
    "                                 )\r\n",
    "df_scores = scores_knn(X = X_train_std, \r\n",
    "                       y = y_train, \r\n",
    "                       start = 1, \r\n",
    "                       stop = 20, \r\n",
    "                       step = 1\r\n",
    "                      )\r\n",
    "df_scores"
   ],
   "outputs": [
    {
     "output_type": "execute_result",
     "data": {
      "text/plain": [
       "    score_medio  score_std  n_neighbours  limite_inferior  limite_superior\n",
       "0      0.949133   0.031833             1         0.917300         0.980966\n",
       "1      0.931787   0.036785             2         0.895002         0.968573\n",
       "2      0.963047   0.029056             3         0.933991         0.992102\n",
       "3      0.947360   0.021149             4         0.926212         0.968509\n",
       "4      0.961011   0.028883             5         0.932127         0.989894\n",
       "5      0.960935   0.026253             6         0.934682         0.987188\n",
       "6      0.960973   0.019498             7         0.941475         0.980471\n",
       "7      0.960860   0.029134             8         0.931725         0.989994\n",
       "8      0.962896   0.026893             9         0.936003         0.989789\n",
       "9      0.962821   0.029668            10         0.933153         0.992488\n",
       "10     0.964857   0.021023            11         0.943834         0.985880\n",
       "11     0.960973   0.019347            12         0.941625         0.980320\n",
       "12     0.962934   0.030764            13         0.932169         0.993698\n",
       "13     0.964857   0.027378            14         0.937479         0.992234\n",
       "14     0.962896   0.022193            15         0.940703         0.985089\n",
       "15     0.960973   0.024597            16         0.936376         0.985570\n",
       "16     0.962821   0.032155            17         0.930665         0.994976\n",
       "17     0.962971   0.026779            18         0.936193         0.989750\n",
       "18     0.964932   0.022572            19         0.942360         0.987504"
      ],
      "text/html": [
       "<div>\n",
       "<style scoped>\n",
       "    .dataframe tbody tr th:only-of-type {\n",
       "        vertical-align: middle;\n",
       "    }\n",
       "\n",
       "    .dataframe tbody tr th {\n",
       "        vertical-align: top;\n",
       "    }\n",
       "\n",
       "    .dataframe thead th {\n",
       "        text-align: right;\n",
       "    }\n",
       "</style>\n",
       "<table border=\"1\" class=\"dataframe\">\n",
       "  <thead>\n",
       "    <tr style=\"text-align: right;\">\n",
       "      <th></th>\n",
       "      <th>score_medio</th>\n",
       "      <th>score_std</th>\n",
       "      <th>n_neighbours</th>\n",
       "      <th>limite_inferior</th>\n",
       "      <th>limite_superior</th>\n",
       "    </tr>\n",
       "  </thead>\n",
       "  <tbody>\n",
       "    <tr>\n",
       "      <th>0</th>\n",
       "      <td>0.949133</td>\n",
       "      <td>0.031833</td>\n",
       "      <td>1</td>\n",
       "      <td>0.917300</td>\n",
       "      <td>0.980966</td>\n",
       "    </tr>\n",
       "    <tr>\n",
       "      <th>1</th>\n",
       "      <td>0.931787</td>\n",
       "      <td>0.036785</td>\n",
       "      <td>2</td>\n",
       "      <td>0.895002</td>\n",
       "      <td>0.968573</td>\n",
       "    </tr>\n",
       "    <tr>\n",
       "      <th>2</th>\n",
       "      <td>0.963047</td>\n",
       "      <td>0.029056</td>\n",
       "      <td>3</td>\n",
       "      <td>0.933991</td>\n",
       "      <td>0.992102</td>\n",
       "    </tr>\n",
       "    <tr>\n",
       "      <th>3</th>\n",
       "      <td>0.947360</td>\n",
       "      <td>0.021149</td>\n",
       "      <td>4</td>\n",
       "      <td>0.926212</td>\n",
       "      <td>0.968509</td>\n",
       "    </tr>\n",
       "    <tr>\n",
       "      <th>4</th>\n",
       "      <td>0.961011</td>\n",
       "      <td>0.028883</td>\n",
       "      <td>5</td>\n",
       "      <td>0.932127</td>\n",
       "      <td>0.989894</td>\n",
       "    </tr>\n",
       "    <tr>\n",
       "      <th>5</th>\n",
       "      <td>0.960935</td>\n",
       "      <td>0.026253</td>\n",
       "      <td>6</td>\n",
       "      <td>0.934682</td>\n",
       "      <td>0.987188</td>\n",
       "    </tr>\n",
       "    <tr>\n",
       "      <th>6</th>\n",
       "      <td>0.960973</td>\n",
       "      <td>0.019498</td>\n",
       "      <td>7</td>\n",
       "      <td>0.941475</td>\n",
       "      <td>0.980471</td>\n",
       "    </tr>\n",
       "    <tr>\n",
       "      <th>7</th>\n",
       "      <td>0.960860</td>\n",
       "      <td>0.029134</td>\n",
       "      <td>8</td>\n",
       "      <td>0.931725</td>\n",
       "      <td>0.989994</td>\n",
       "    </tr>\n",
       "    <tr>\n",
       "      <th>8</th>\n",
       "      <td>0.962896</td>\n",
       "      <td>0.026893</td>\n",
       "      <td>9</td>\n",
       "      <td>0.936003</td>\n",
       "      <td>0.989789</td>\n",
       "    </tr>\n",
       "    <tr>\n",
       "      <th>9</th>\n",
       "      <td>0.962821</td>\n",
       "      <td>0.029668</td>\n",
       "      <td>10</td>\n",
       "      <td>0.933153</td>\n",
       "      <td>0.992488</td>\n",
       "    </tr>\n",
       "    <tr>\n",
       "      <th>10</th>\n",
       "      <td>0.964857</td>\n",
       "      <td>0.021023</td>\n",
       "      <td>11</td>\n",
       "      <td>0.943834</td>\n",
       "      <td>0.985880</td>\n",
       "    </tr>\n",
       "    <tr>\n",
       "      <th>11</th>\n",
       "      <td>0.960973</td>\n",
       "      <td>0.019347</td>\n",
       "      <td>12</td>\n",
       "      <td>0.941625</td>\n",
       "      <td>0.980320</td>\n",
       "    </tr>\n",
       "    <tr>\n",
       "      <th>12</th>\n",
       "      <td>0.962934</td>\n",
       "      <td>0.030764</td>\n",
       "      <td>13</td>\n",
       "      <td>0.932169</td>\n",
       "      <td>0.993698</td>\n",
       "    </tr>\n",
       "    <tr>\n",
       "      <th>13</th>\n",
       "      <td>0.964857</td>\n",
       "      <td>0.027378</td>\n",
       "      <td>14</td>\n",
       "      <td>0.937479</td>\n",
       "      <td>0.992234</td>\n",
       "    </tr>\n",
       "    <tr>\n",
       "      <th>14</th>\n",
       "      <td>0.962896</td>\n",
       "      <td>0.022193</td>\n",
       "      <td>15</td>\n",
       "      <td>0.940703</td>\n",
       "      <td>0.985089</td>\n",
       "    </tr>\n",
       "    <tr>\n",
       "      <th>15</th>\n",
       "      <td>0.960973</td>\n",
       "      <td>0.024597</td>\n",
       "      <td>16</td>\n",
       "      <td>0.936376</td>\n",
       "      <td>0.985570</td>\n",
       "    </tr>\n",
       "    <tr>\n",
       "      <th>16</th>\n",
       "      <td>0.962821</td>\n",
       "      <td>0.032155</td>\n",
       "      <td>17</td>\n",
       "      <td>0.930665</td>\n",
       "      <td>0.994976</td>\n",
       "    </tr>\n",
       "    <tr>\n",
       "      <th>17</th>\n",
       "      <td>0.962971</td>\n",
       "      <td>0.026779</td>\n",
       "      <td>18</td>\n",
       "      <td>0.936193</td>\n",
       "      <td>0.989750</td>\n",
       "    </tr>\n",
       "    <tr>\n",
       "      <th>18</th>\n",
       "      <td>0.964932</td>\n",
       "      <td>0.022572</td>\n",
       "      <td>19</td>\n",
       "      <td>0.942360</td>\n",
       "      <td>0.987504</td>\n",
       "    </tr>\n",
       "  </tbody>\n",
       "</table>\n",
       "</div>"
      ]
     },
     "metadata": {},
     "execution_count": 39
    }
   ],
   "metadata": {}
  },
  {
   "cell_type": "markdown",
   "source": [],
   "metadata": {}
  },
  {
   "cell_type": "markdown",
   "source": [
    "#### Plotar um gráfico com os valores médios dos coeficientes de determinação e também as margens de um desvio padrão que foi calculado."
   ],
   "metadata": {}
  },
  {
   "cell_type": "code",
   "execution_count": 40,
   "source": [
    "plt.plot(df_scores['n_neighbours'], \r\n",
    "         df_scores['limite_inferior'], \r\n",
    "         color = 'r'\r\n",
    "        )\r\n",
    "plt.plot(df_scores['n_neighbours'], \r\n",
    "         df_scores['score_medio'], \r\n",
    "         color = 'b'\r\n",
    "        )\r\n",
    "plt.plot(df_scores['n_neighbours'], \r\n",
    "         df_scores['limite_superior'], \r\n",
    "         color = 'r'\r\n",
    "        );"
   ],
   "outputs": [
    {
     "output_type": "display_data",
     "data": {
      "text/plain": [
       "<Figure size 432x288 with 1 Axes>"
      ],
      "image/png": "[encoded data removed]"
     },
     "metadata": {
      "needs_background": "light"
     }
    }
   ],
   "metadata": {}
  },
  {
   "cell_type": "markdown",
   "source": [],
   "metadata": {}
  },
  {
   "cell_type": "markdown",
   "source": [
    "#### Importar a biblioteca [`sklearn.preprocessing.StandardScaler`] para padronizar os atributos centralizarlos em suas médias e medí-los em termos de seu desvio padrão.\n",
    "\n",
    "#### Depois da padronização é só ajustá com a função [`.fit_transform()`], que ajusta os dados e retorna uma versão transformada dos mesmos."
   ],
   "metadata": {}
  },
  {
   "cell_type": "code",
   "execution_count": 41,
   "source": [
    "# O número ideal de vizinhos é 3\r\n",
    "\r\n",
    "from sklearn.preprocessing import StandardScaler\r\n",
    "\r\n",
    "scaler = StandardScaler()\r\n",
    "\r\n",
    "X_train_std = scaler.fit_transform(X_train)\r\n",
    "\r\n",
    "#print(X_train_std[:,1])\r\n",
    "#print(X_train_std)"
   ],
   "outputs": [],
   "metadata": {}
  },
  {
   "cell_type": "markdown",
   "source": [],
   "metadata": {}
  },
  {
   "cell_type": "markdown",
   "source": [
    "#### Uma vez padronizados os atributos do conjunto de dados de treino `X_train`, vamos aplicar a função [`.std()`](https://numpy.org/doc/1.18/reference/generated/numpy.std.html) a este subconjunto para calcular o desvio padrão ao longo do eixo especificado."
   ],
   "metadata": {}
  },
  {
   "cell_type": "code",
   "execution_count": 42,
   "source": [
    "np.std(X_train_std[:,1])"
   ],
   "outputs": [
    {
     "output_type": "execute_result",
     "data": {
      "text/plain": [
       "1.0"
      ]
     },
     "metadata": {},
     "execution_count": 42
    }
   ],
   "metadata": {}
  },
  {
   "cell_type": "markdown",
   "source": [],
   "metadata": {}
  },
  {
   "cell_type": "markdown",
   "source": [
    "#### Instanciar um novo objeto `model` para receber o modelo de classificação [`kNN`], agora com um número de vizinhos definido como `n_neighbors = 3`, para isso é usado a função [`KNeighborsClassifier`]."
   ],
   "metadata": {}
  },
  {
   "cell_type": "code",
   "execution_count": 135,
   "source": [
    "model = KNeighborsClassifier(n_neighbors = 3)"
   ],
   "outputs": [],
   "metadata": {}
  },
  {
   "cell_type": "markdown",
   "source": [],
   "metadata": {}
  },
  {
   "cell_type": "markdown",
   "source": [
    "#### O modelo, com os subconjuntos de treino `X_train_std`, padronizado e `y_train`, deve se então ajustado."
   ],
   "metadata": {}
  },
  {
   "cell_type": "code",
   "execution_count": 136,
   "source": [
    "model.fit(X_train_std, y_train)"
   ],
   "outputs": [
    {
     "output_type": "execute_result",
     "data": {
      "text/plain": [
       "KNeighborsClassifier(n_neighbors=3)"
      ]
     },
     "metadata": {},
     "execution_count": 136
    }
   ],
   "metadata": {}
  },
  {
   "cell_type": "markdown",
   "source": [],
   "metadata": {}
  },
  {
   "cell_type": "markdown",
   "source": [
    "#### Padronizar e transformar também o subconjunto de teste `X_test` e aplicando novamente a função [`.fit_transform()`], que ajusta os dados e retorna uma versão transformada dos mesmos."
   ],
   "metadata": {}
  },
  {
   "cell_type": "code",
   "execution_count": 137,
   "source": [
    "X_test_std = scaler.transform(X_test)"
   ],
   "outputs": [],
   "metadata": {}
  },
  {
   "cell_type": "markdown",
   "source": [],
   "metadata": {}
  },
  {
   "cell_type": "markdown",
   "source": [
    "#### Refazer previsões com a função [`.predict()`] aplicada ao subconjunto padronizado de teste  `X_test_std` para validar o modelo."
   ],
   "metadata": {}
  },
  {
   "cell_type": "code",
   "execution_count": 138,
   "source": [
    "y_pred = model.predict(X_test_std)"
   ],
   "outputs": [],
   "metadata": {}
  },
  {
   "cell_type": "markdown",
   "source": [],
   "metadata": {}
  },
  {
   "cell_type": "markdown",
   "source": [
    "#### Aqui é medido a acurácia do modelo com a função [`accuracy_score()`] aplicada aos subconjuntos `y_test` e `y_pred`."
   ],
   "metadata": {}
  },
  {
   "cell_type": "code",
   "execution_count": 139,
   "source": [
    "accuracy_score(y_test, y_pred)"
   ],
   "outputs": [
    {
     "output_type": "execute_result",
     "data": {
      "text/plain": [
       "0.9766081871345029"
      ]
     },
     "metadata": {},
     "execution_count": 139
    }
   ],
   "metadata": {}
  },
  {
   "cell_type": "markdown",
   "source": [],
   "metadata": {}
  }
 ],
 "metadata": {
  "kernelspec": {
   "name": "python3",
   "display_name": "Python 3.7.1 64-bit ('rstudio': conda)"
  },
  "language_info": {
   "codemirror_mode": {
    "name": "ipython",
    "version": 3
   },
   "file_extension": ".py",
   "mimetype": "text/x-python",
   "name": "python",
   "nbconvert_exporter": "python",
   "pygments_lexer": "ipython3",
   "version": "3.7.1"
  },
  "interpreter": {
   "hash": "243d9006193eb2bba5069610c935247a3397c5aefe5012bda2bad90f18c7a77b"
  }
 },
 "nbformat": 4,
 "nbformat_minor": 4
}